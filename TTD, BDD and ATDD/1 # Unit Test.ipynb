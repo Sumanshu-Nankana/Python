{
 "cells": [
  {
   "cell_type": "markdown",
   "metadata": {},
   "source": [
    "#### Unit Testing"
   ]
  },
  {
   "cell_type": "raw",
   "metadata": {},
   "source": [
    "Testing at the function level.\n",
    "Unit test validates individual functions.\n",
    "\n",
    "A test should be written for each test case for a function (all positive and negative) test case.\n",
    "\n",
    "Execution of the Unit Tests should be automated."
   ]
  },
  {
   "cell_type": "code",
   "execution_count": 5,
   "metadata": {},
   "outputs": [],
   "source": [
    "# Example\n",
    "\n",
    "import pytest\n",
    "\n",
    "# code\n",
    "def str_len(theStr):\n",
    "    return len(theStr)\n",
    "\n",
    "# Unit Test\n",
    "def test_string_length():\n",
    "    testStr = 1  # Setup\n",
    "    result = str_len(testStr)  # Action\n",
    "    assert result == 1  # Assertion or Validation"
   ]
  },
  {
   "cell_type": "markdown",
   "metadata": {},
   "source": [
    "#### Component Testing"
   ]
  },
  {
   "cell_type": "raw",
   "metadata": {},
   "source": [
    "Testing of each object or Part of the software. Components are the collection of the functions."
   ]
  },
  {
   "cell_type": "markdown",
   "metadata": {},
   "source": [
    "#### System Testing"
   ]
  },
  {
   "cell_type": "raw",
   "metadata": {},
   "source": [
    "SYSTEM TESTING is a level of testing that validates the complete and fully integrated software product. The purpose of a system test is to evaluate the end-to-end system specifications"
   ]
  },
  {
   "cell_type": "markdown",
   "metadata": {},
   "source": [
    "#### Performance Testing"
   ]
  },
  {
   "cell_type": "raw",
   "metadata": {},
   "source": [
    "Performance Testing is a software testing process used for testing the speed, response time, stability, reliability, scalability and resource usage of a software application under particular workload."
   ]
  }
 ],
 "metadata": {
  "kernelspec": {
   "display_name": "Python 3",
   "language": "python",
   "name": "python3"
  },
  "language_info": {
   "codemirror_mode": {
    "name": "ipython",
    "version": 3
   },
   "file_extension": ".py",
   "mimetype": "text/x-python",
   "name": "python",
   "nbconvert_exporter": "python",
   "pygments_lexer": "ipython3",
   "version": "3.8.5"
  }
 },
 "nbformat": 4,
 "nbformat_minor": 4
}
