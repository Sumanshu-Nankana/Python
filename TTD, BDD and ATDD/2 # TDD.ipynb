{
 "cells": [
  {
   "cell_type": "markdown",
   "metadata": {},
   "source": [
    "# TDD - Test Driven Development"
   ]
  },
  {
   "cell_type": "raw",
   "metadata": {},
   "source": [
    "- TDD - is a process  where the developer takes the personal responsibility for the quality of their code.\n",
    "\n",
    "- Unit Tests are written before the production code.\n",
    "\n",
    "- it does not mean, we need to write all test cases before.\n",
    "\n",
    "- tests and  production code are both written together in a small bits of functionality\n",
    "\n",
    "- this is to provide immediate feedback."
   ]
  },
  {
   "cell_type": "markdown",
   "metadata": {},
   "source": [
    "#### Benefits of the TDD"
   ]
  },
  {
   "cell_type": "raw",
   "metadata": {},
   "source": [
    "- Gives you immediate feedback.\n",
    "- Gives you the confidence to change the code.\n",
    "- Documents what the code is doing.\n",
    "- drives good object oriented design."
   ]
  }
 ],
 "metadata": {
  "kernelspec": {
   "display_name": "Python 3",
   "language": "python",
   "name": "python3"
  },
  "language_info": {
   "codemirror_mode": {
    "name": "ipython",
    "version": 3
   },
   "file_extension": ".py",
   "mimetype": "text/x-python",
   "name": "python",
   "nbconvert_exporter": "python",
   "pygments_lexer": "ipython3",
   "version": "3.8.5"
  }
 },
 "nbformat": 4,
 "nbformat_minor": 4
}
