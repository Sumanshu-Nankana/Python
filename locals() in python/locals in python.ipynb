{
 "cells": [
  {
   "cell_type": "markdown",
   "metadata": {},
   "source": [
    "# locals() in Python"
   ]
  },
  {
   "cell_type": "markdown",
   "metadata": {},
   "source": [
    "locals() function in Python returns the dictionary of current local symbol table.\n",
    "\n",
    "Symbol table: It is a data structure created by compiler for which is used to store all information needed to execute a program.\n",
    "\n",
    "Local symbol Table: This symbol table stores all information which needed to local scope of the program and this information is accessed using python built in function locals()."
   ]
  },
  {
   "cell_type": "markdown",
   "metadata": {},
   "source": [
    "Syntax : locals()\n",
    "\n",
    "Parameters: This function does not takes any input parameter.\n",
    "\n",
    "Return Type : This returns the information stored in local symbol table."
   ]
  },
  {
   "cell_type": "code",
   "execution_count": 2,
   "metadata": {},
   "outputs": [
    {
     "name": "stdout",
     "output_type": "stream",
     "text": [
      "Here no local variable  is present :  {}\n",
      "Here local variables are present :  {'name': 'Ankit'}\n"
     ]
    }
   ],
   "source": [
    "def demo1(): \n",
    "    print(\"Here no local variable  is present : \", locals()) \n",
    "      \n",
    "# here local variables are present \n",
    "def demo2(): \n",
    "     name = \"Ankit\"\n",
    "     print(\"Here local variables are present : \", locals()) \n",
    "       \n",
    "# driver code \n",
    "demo1() \n",
    "demo2() "
   ]
  },
  {
   "cell_type": "markdown",
   "metadata": {},
   "source": [
    "## Unlike from globals() this function can not modify the data of local symbol table. Below program exaplains it clearly."
   ]
  },
  {
   "cell_type": "code",
   "execution_count": 4,
   "metadata": {},
   "outputs": [
    {
     "name": "stdout",
     "output_type": "stream",
     "text": [
      "Here no local variable  is present :  {}\n",
      "Here local variables are present :  {'name': 'Ankit'}\n",
      "Before updating name is  :  Ankit\n",
      "after updating name is :  Ankit\n"
     ]
    }
   ],
   "source": [
    "def demo1(): \n",
    "    print(\"Here no local variable  is present : \", locals()) \n",
    "      \n",
    "# here local variables are present \n",
    "def demo2(): \n",
    "     name = \"Ankit\"\n",
    "     print(\"Here local variables are present : \", locals()) \n",
    "     print(\"Before updating name is  : \", name) \n",
    "       \n",
    "     # trying to change name value \n",
    "     locals()['name'] = \"Sri Ram\"\n",
    "       \n",
    "     print(\"after updating name is : \", name) \n",
    "    \n",
    "demo1() \n",
    "demo2() "
   ]
  },
  {
   "cell_type": "code",
   "execution_count": 22,
   "metadata": {},
   "outputs": [
    {
     "name": "stdout",
     "output_type": "stream",
     "text": [
      "Here no local variable  is present :  {}\n",
      "Here local variables are present :  {'name': 'Ankit'}\n",
      "Before updating name is  :  Ankit\n",
      "after updating name is :  Ankit\n",
      "Here local variables are present :  {'name': 'Ankit', 'fun1': <function demo2.<locals>.fun1 at 0x7fdd6426e8b0>, 'b': 32}\n",
      "Here local variables are present :  {'name': 'Ankit', 'fun1': <function demo2.<locals>.fun1 at 0x7fdd6426e8b0>, 'b': 32}\n"
     ]
    }
   ],
   "source": [
    "def demo1(): \n",
    "    print(\"Here no local variable  is present : \", locals()) \n",
    "      \n",
    "# here local variables are present \n",
    "def demo2():\n",
    "    name = \"Ankit\"\n",
    "    print(\"Here local variables are present : \", locals()) \n",
    "    print(\"Before updating name is  : \", name) \n",
    "      \n",
    "    # trying to change name value # we cant't update existing local variable\n",
    "    locals()['name'] = \"Sri Ram\"\n",
    "      \n",
    "    print(\"after updating name is : \", name) \n",
    "    def fun1():\n",
    "        return \"function1\"\n",
    "    \n",
    "    #adding new variable\n",
    "    locals().update({'b':32})\n",
    "    \n",
    "    print(\"Here local variables are present : \", locals()) \n",
    "    \n",
    "    # we cant't update existing local variable\n",
    "    locals().update({'name':'sumanshu'})\n",
    "    print(\"Here local variables are present : \", locals()) \n",
    "\n",
    "demo1() \n",
    "demo2() "
   ]
  }
 ],
 "metadata": {
  "kernelspec": {
   "display_name": "Python 3",
   "language": "python",
   "name": "python3"
  },
  "language_info": {
   "codemirror_mode": {
    "name": "ipython",
    "version": 3
   },
   "file_extension": ".py",
   "mimetype": "text/x-python",
   "name": "python",
   "nbconvert_exporter": "python",
   "pygments_lexer": "ipython3",
   "version": "3.8.5"
  }
 },
 "nbformat": 4,
 "nbformat_minor": 4
}
