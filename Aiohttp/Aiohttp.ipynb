{
 "cells": [
  {
   "cell_type": "markdown",
   "metadata": {},
   "source": [
    "# Aiohttp"
   ]
  },
  {
   "cell_type": "markdown",
   "metadata": {},
   "source": [
    "### Asynchronous HTTP Client/Server for asyncio and Python."
   ]
  },
  {
   "cell_type": "raw",
   "metadata": {},
   "source": [
    "aiohttp - is not the inbuilt library\n",
    "\n",
    "so we need to install it : pip3 install aiohttp"
   ]
  },
  {
   "cell_type": "raw",
   "metadata": {},
   "source": [
    "To save the web-page, we can use aiofiles\n",
    "\n",
    "pip3 install aiofiles"
   ]
  },
  {
   "cell_type": "raw",
   "metadata": {},
   "source": [
    "To resolve the DNS names, we can use aiodns\n",
    "\n",
    "pip3 install aiodns"
   ]
  },
  {
   "cell_type": "markdown",
   "metadata": {},
   "source": [
    "### Key - Features\n",
    "* Supports both Client and HTTP Server.\n",
    "* Supports both Server WebSockets and Client WebSockets out-of-the-box without the Callback Hell.\n",
    "* Web-server has Middlewares, Signals and plugable routing."
   ]
  },
  {
   "cell_type": "markdown",
   "metadata": {},
   "source": [
    "## Client Request"
   ]
  },
  {
   "cell_type": "markdown",
   "metadata": {},
   "source": [
    "### Make a request"
   ]
  },
  {
   "cell_type": "code",
   "execution_count": null,
   "metadata": {},
   "outputs": [],
   "source": [
    "import aiohttp\n",
    "import asyncio\n",
    "\n",
    "async def main():\n",
    "    async with aiohttp.ClientSession() as session:\n",
    "        async with session.get('http://httpbin.org/get') as resp:\n",
    "            print(resp.status)\n",
    "            print(await resp.text())\n",
    "\n",
    "\n",
    "loop = asyncio.get_event_loop()\n",
    "loop.run_until_complete(main())"
   ]
  },
  {
   "cell_type": "raw",
   "metadata": {},
   "source": [
    "In order to make an HTTP POST request use ClientSession.post() coroutine:\n",
    "\n",
    "session.post('http://httpbin.org/post', data=b'data')\n",
    "\n",
    "\n",
    "Other HTTP methods are available as well:\n",
    "\n",
    "session.put('http://httpbin.org/put', data=b'data')\n",
    "session.delete('http://httpbin.org/delete')\n",
    "session.head('http://httpbin.org/get')\n",
    "session.options('http://httpbin.org/get')\n",
    "session.patch('http://httpbin.org/patch', data=b'data')"
   ]
  },
  {
   "cell_type": "raw",
   "metadata": {},
   "source": [
    "Note\n",
    "Don’t create a session per request. Most likely you need a session per application which performs all requests altogether.\n",
    "\n",
    "More complex cases may require a session per site, e.g. one for Github and other one for Facebook APIs. Anyway making a session for every request is a very bad idea.\n",
    "\n",
    "A session contains a connection pool inside. Connection reusage and keep-alives (both are on by default) may speed up total performance."
   ]
  },
  {
   "cell_type": "raw",
   "metadata": {},
   "source": [
    "A session context manager usage is not mandatory but await session.close() method should be called in this case, e.g.:\n",
    "\n",
    "session = aiohttp.ClientSession()\n",
    "async with session.get('...'):\n",
    "    # ...\n",
    "await session.close()"
   ]
  },
  {
   "cell_type": "markdown",
   "metadata": {},
   "source": [
    "### Passing Parameters In URLs"
   ]
  },
  {
   "cell_type": "raw",
   "metadata": {},
   "source": [
    "You often want to send some sort of data in the URL’s query string. If you were constructing the URL by hand, this data would be given as key/value pairs in the URL after a question mark, e.g. httpbin.org/get?key=val. Requests allows you to provide these arguments as a dict, using the params keyword argument. As an example, if you wanted to pass key1=value1 and key2=value2 to httpbin.org/get, you would use the following code:"
   ]
  },
  {
   "cell_type": "code",
   "execution_count": null,
   "metadata": {},
   "outputs": [],
   "source": [
    "params = {'key1': 'value1', 'key2': 'value2'}\n",
    "async with session.get('http://httpbin.org/get',\n",
    "                       params=params) as resp:\n",
    "    expect = 'http://httpbin.org/get?key1=value1&key2=value2'\n",
    "    assert str(resp.url) == expect"
   ]
  },
  {
   "cell_type": "raw",
   "metadata": {},
   "source": [
    "For sending data with multiple values for the same key MultiDict may be used; the library support nested lists ({'key': ['value1', 'value2']}) alternative as well.\n",
    "\n",
    "It is also possible to pass a list of 2 item tuples as parameters, in that case you can specify multiple values for each key:"
   ]
  },
  {
   "cell_type": "code",
   "execution_count": null,
   "metadata": {},
   "outputs": [],
   "source": [
    "params = [('key', 'value1'), ('key', 'value2')]\n",
    "async with session.get('http://httpbin.org/get',\n",
    "                       params=params) as r:\n",
    "    expect = 'http://httpbin.org/get?key=value2&key=value1'\n",
    "    assert str(r.url) == expect"
   ]
  },
  {
   "cell_type": "markdown",
   "metadata": {},
   "source": [
    "### Response Content and Status Code"
   ]
  },
  {
   "cell_type": "raw",
   "metadata": {},
   "source": [
    "We can read the content of the server’s response and its status code. Consider the GitHub time-line again"
   ]
  },
  {
   "cell_type": "code",
   "execution_count": null,
   "metadata": {},
   "outputs": [],
   "source": [
    "async with session.get('https://api.github.com/events') as resp:\n",
    "    print(resp.status)\n",
    "    print(await resp.text())"
   ]
  },
  {
   "cell_type": "markdown",
   "metadata": {},
   "source": [
    "### JSON Request"
   ]
  },
  {
   "cell_type": "raw",
   "metadata": {},
   "source": [
    "Any of session’s request methods like request(), ClientSession.get(), ClientSesssion.post() etc. accept json parameter:"
   ]
  },
  {
   "cell_type": "code",
   "execution_count": null,
   "metadata": {},
   "outputs": [],
   "source": [
    "async with aiohttp.ClientSession() as session:\n",
    "    async with session.post(url, json={'test': 'object'})"
   ]
  },
  {
   "cell_type": "markdown",
   "metadata": {},
   "source": [
    "### JSON Response Content"
   ]
  },
  {
   "cell_type": "code",
   "execution_count": null,
   "metadata": {},
   "outputs": [],
   "source": [
    "async with session.get('https://api.github.com/events') as resp:\n",
    "    print(await resp.json())"
   ]
  },
  {
   "cell_type": "raw",
   "metadata": {},
   "source": [
    "While methods read(), json() and text() are very convenient you should use them carefully. All these methods load the whole response in memory. For example if you want to download several gigabyte sized files, these methods will load all the data in memory. Instead you can use the content attribute"
   ]
  },
  {
   "cell_type": "code",
   "execution_count": null,
   "metadata": {},
   "outputs": [],
   "source": [
    "async with session.get('https://api.github.com/events') as resp:\n",
    "    await resp.content.read(10)"
   ]
  },
  {
   "cell_type": "markdown",
   "metadata": {},
   "source": [
    "### More complicated POST requests"
   ]
  },
  {
   "cell_type": "code",
   "execution_count": null,
   "metadata": {},
   "outputs": [],
   "source": [
    "payload = {'key1': 'value1', 'key2': 'value2'}\n",
    "async with session.post('http://httpbin.org/post',\n",
    "                        data=payload) as resp:\n",
    "    print(await resp.text())"
   ]
  },
  {
   "cell_type": "raw",
   "metadata": {},
   "source": [
    "If you want to send JSON Data"
   ]
  },
  {
   "cell_type": "code",
   "execution_count": null,
   "metadata": {},
   "outputs": [],
   "source": [
    "async with session.post(url, json={'example': 'test'}) as resp:\n",
    "    ..."
   ]
  },
  {
   "cell_type": "markdown",
   "metadata": {},
   "source": [
    "### POST a Multipart-Encoded File"
   ]
  },
  {
   "cell_type": "code",
   "execution_count": null,
   "metadata": {},
   "outputs": [],
   "source": [
    "url = 'http://httpbin.org/post'\n",
    "files = {'file': open('report.xls', 'rb')}\n",
    "\n",
    "await session.post(url, data=files)"
   ]
  },
  {
   "cell_type": "raw",
   "metadata": {},
   "source": [
    "You can set the filename and content_type explicitly:"
   ]
  },
  {
   "cell_type": "code",
   "execution_count": null,
   "metadata": {},
   "outputs": [],
   "source": [
    "url = 'http://httpbin.org/post'\n",
    "data = FormData()\n",
    "data.add_field('file',\n",
    "               open('report.xls', 'rb'),\n",
    "               filename='report.xls',\n",
    "               content_type='application/vnd.ms-excel')\n",
    "\n",
    "await session.post(url, data=data)"
   ]
  },
  {
   "cell_type": "markdown",
   "metadata": {},
   "source": [
    "## HTTP Server"
   ]
  },
  {
   "cell_type": "markdown",
   "metadata": {},
   "source": [
    "### Run a Simple Web Server"
   ]
  },
  {
   "cell_type": "raw",
   "metadata": {},
   "source": [
    "In order to implement a web server, first create a request handler.\n",
    "\n",
    "A request handler must be a coroutine that accepts a Request instance as its only parameter and returns a Response instance:"
   ]
  },
  {
   "cell_type": "code",
   "execution_count": null,
   "metadata": {},
   "outputs": [],
   "source": [
    "from aiohttp import web\n",
    "\n",
    "async def hello(request):\n",
    "    return web.Response(text=\"Hello, world\")"
   ]
  },
  {
   "cell_type": "raw",
   "metadata": {},
   "source": [
    "Next, create an Application instance and register the request handler on a particular HTTP method and path:"
   ]
  },
  {
   "cell_type": "code",
   "execution_count": null,
   "metadata": {},
   "outputs": [],
   "source": [
    "app = web.Application()\n",
    "app.add_routes([web.get('/', hello)])"
   ]
  },
  {
   "cell_type": "raw",
   "metadata": {},
   "source": [
    "After that, run the application by run_app() call:"
   ]
  },
  {
   "cell_type": "code",
   "execution_count": null,
   "metadata": {},
   "outputs": [],
   "source": [
    "web.run_app(app)"
   ]
  },
  {
   "cell_type": "raw",
   "metadata": {},
   "source": [
    "That’s it. Now, head over to http://localhost:8080/ to see the results."
   ]
  },
  {
   "cell_type": "raw",
   "metadata": {},
   "source": [
    "Alternatively if you prefer route decorators create a route table and register a web-handler:"
   ]
  },
  {
   "cell_type": "code",
   "execution_count": null,
   "metadata": {},
   "outputs": [],
   "source": [
    "routes = web.RouteTableDef()\n",
    "\n",
    "@routes.get('/')\n",
    "async def hello(request):\n",
    "    return web.Response(text=\"Hello, world\")\n",
    "\n",
    "app = web.Application()\n",
    "app.add_routes(routes)\n",
    "web.run_app(app)"
   ]
  },
  {
   "cell_type": "code",
   "execution_count": null,
   "metadata": {},
   "outputs": [],
   "source": [
    "app.add_routes([web.get('/', handler),\n",
    "                web.post('/post', post_handler),\n",
    "                web.put('/put', put_handler)])"
   ]
  },
  {
   "cell_type": "raw",
   "metadata": {},
   "source": [
    "OR"
   ]
  },
  {
   "cell_type": "code",
   "execution_count": null,
   "metadata": {},
   "outputs": [],
   "source": [
    "routes = web.RouteTableDef()\n",
    "\n",
    "@routes.get('/')\n",
    "async def get_handler(request):\n",
    "    ...\n",
    "\n",
    "@routes.post('/post')\n",
    "async def post_handler(request):\n",
    "    ...\n",
    "\n",
    "@routes.put('/put')\n",
    "async def put_handler(request):\n",
    "    ...\n",
    "\n",
    "app.add_routes(routes)"
   ]
  }
 ],
 "metadata": {
  "kernelspec": {
   "display_name": "Python 3",
   "language": "python",
   "name": "python3"
  },
  "language_info": {
   "codemirror_mode": {
    "name": "ipython",
    "version": 3
   },
   "file_extension": ".py",
   "mimetype": "text/x-python",
   "name": "python",
   "nbconvert_exporter": "python",
   "pygments_lexer": "ipython3",
   "version": "3.8.5"
  }
 },
 "nbformat": 4,
 "nbformat_minor": 4
}
